{
  "nbformat": 4,
  "nbformat_minor": 0,
  "metadata": {
    "colab": {
      "provenance": [],
      "authorship_tag": "ABX9TyPozpyeeUEf2fPHmAb9iBQF",
      "include_colab_link": true
    },
    "kernelspec": {
      "name": "python3",
      "display_name": "Python 3"
    },
    "language_info": {
      "name": "python"
    }
  },
  "cells": [
    {
      "cell_type": "markdown",
      "metadata": {
        "id": "view-in-github",
        "colab_type": "text"
      },
      "source": [
        "<a href=\"https://colab.research.google.com/github/DimbikeY/2022_2023-introduction_in_routing-k33212_dolmatov_d_a/blob/main/%D0%A0%D0%B0%D1%81%D0%BF%D0%BE%D0%B7%D0%BD%D0%B0%D0%B2%D0%B0%D0%BD%D0%B8%D0%B5_%D0%BF%D1%80%D0%B5%D0%B4%D0%BC%D0%B5%D1%82%D0%BE%D0%B2_%D0%BE%D0%B4%D0%B5%D0%B6%D0%B4%D1%8B.ipynb\" target=\"_parent\"><img src=\"https://colab.research.google.com/assets/colab-badge.svg\" alt=\"Open In Colab\"/></a>"
      ]
    },
    {
      "cell_type": "markdown",
      "source": [
        "# Распознавание предметов одежды\n",
        "## Входной слой состоит из 800 нейронов. Выходной слой из 10 нейронов, которые показывают вероятность того, что на изображении данный предмет одежды.\n",
        "## Каждый снимок состоит из 28x28 пикселей с интенсивностью от 0 до 255.\n"
      ],
      "metadata": {
        "id": "98tyNiyla6eB"
      }
    },
    {
      "cell_type": "code",
      "execution_count": 8,
      "metadata": {
        "id": "tCddfZYqaa2A"
      },
      "outputs": [],
      "source": [
        "\n",
        "from tensorflow.keras.datasets import fashion_mnist\n",
        "from tensorflow.keras.models import Sequential # слой за слоем по порядку\n",
        "from tensorflow.keras.layers import Dense # полносвязная нейронная сеть\n",
        "from tensorflow.keras import utils\n",
        "import numpy as np"
      ]
    },
    {
      "cell_type": "code",
      "source": [
        "# Загружаем данные\n",
        "(x_train, y_train), (x_test, y_test) = fashion_mnist.load_data()\n",
        "\n",
        "# Преобразование размерности изображений\n",
        "x_train = x_train.reshape(60000, 784)\n",
        "\n",
        "# Нормализация данных\n",
        "x_train /= 255\n"
      ],
      "metadata": {
        "id": "21RFawwta48h",
        "colab": {
          "base_uri": "https://localhost:8080/",
          "height": 201
        },
        "outputId": "5cb49507-d232-423e-e71e-652079c241cc"
      },
      "execution_count": 9,
      "outputs": [
        {
          "output_type": "error",
          "ename": "ValueError",
          "evalue": "ignored",
          "traceback": [
            "\u001b[0;31m---------------------------------------------------------------------------\u001b[0m",
            "\u001b[0;31mValueError\u001b[0m                                Traceback (most recent call last)",
            "\u001b[0;32m<ipython-input-9-7308b7634885>\u001b[0m in \u001b[0;36m<module>\u001b[0;34m\u001b[0m\n\u001b[1;32m      6\u001b[0m \u001b[0;34m\u001b[0m\u001b[0m\n\u001b[1;32m      7\u001b[0m \u001b[0;31m# Нормализация данных\u001b[0m\u001b[0;34m\u001b[0m\u001b[0;34m\u001b[0m\u001b[0;34m\u001b[0m\u001b[0m\n\u001b[0;32m----> 8\u001b[0;31m \u001b[0mx_train\u001b[0m \u001b[0;34m/=\u001b[0m \u001b[0;36m255\u001b[0m\u001b[0;34m\u001b[0m\u001b[0;34m\u001b[0m\u001b[0m\n\u001b[0m",
            "\u001b[0;31mValueError\u001b[0m: output array is read-only"
          ]
        }
      ]
    },
    {
      "cell_type": "code",
      "source": [
        "# Преобразуем метки в категории\n",
        "y_train = utils.to_categorical(y_train, 10)\n",
        "# 0 -> [1, 0, 0, 0, 0, 0, 0, 0, 0, 0]\n",
        "# 1 -> [0, 1, 0, 0, 0, 0, 0, 0, 0, 0]\n",
        "#.....................................\n",
        "# 9 -> [0, 0, 0, 0, 0, 0, 0, 0, 0, 1]\n",
        "\n",
        "# Название классов\n",
        "classes = ['футболка', 'брюки', 'свитер', 'платье', 'пальто', 'туфли', 'рубашка', 'кроссовки', 'сумка', 'ботинки']"
      ],
      "metadata": {
        "id": "VmMtf4ophUYw"
      },
      "execution_count": null,
      "outputs": []
    },
    {
      "cell_type": "markdown",
      "source": [
        "## Создаём нейронную сеть"
      ],
      "metadata": {
        "id": "QMK6g3O0iOOG"
      }
    },
    {
      "cell_type": "code",
      "source": [
        "# Создаём последовательную модель\n",
        "model = Sequential()\n",
        "\n",
        "# Добавляем уровни сети\n",
        "model.add(Dense(800, input_dim = 784, activation = \"relu\")) # relu - полулинейная функция активации \n",
        "model.add(Dense(10, activation = \"softmax\")) # softmax используется для представление вероятности (сумма = 1)\n",
        "\n",
        "# Компилируем модель\n",
        "model.compile(loss=\"categorical_crossentopy\", optimizer=\"SGD\", metrics=[\"accuracy\"]) # SGD - градиентный спуск\n",
        "# Функция ошибки (категориальная перекрёстная энтропия) хорошо подходит, если классов больше 2\n",
        "# метрика качества - это доля правильных ответов в нейронной сети\n",
        "print(model.summary())\n"
      ],
      "metadata": {
        "id": "6FbD0Az1iRzv"
      },
      "execution_count": null,
      "outputs": []
    },
    {
      "cell_type": "markdown",
      "source": [
        "## Данные подготовлены. Нейронная сеть описана и скопилирована. Теперь обучаем сеть"
      ],
      "metadata": {
        "id": "_41dLlw2kmkg"
      }
    },
    {
      "cell_type": "code",
      "source": [
        "model.fit(x_train, y_train, batch_size=200, epochs=100, verbose=1) # берём 200 изображений, рассчитываем функцию ошибки => градиент и изменение весов. \n",
        "# Повторяем до конца мини-выборок и эпох (на всём наборе данных 100 раз)\n",
        "predictions = model.predict(x_train)\n",
        "print(predictions[0])\n",
        "\n",
        "# Выводим номер класса, предсказаный нейросетью\n",
        "print(np.argmax(predictions[0]))\n",
        "# Выводим правильный номер класса\n",
        "print(np.argmax(y_train[0]))"
      ],
      "metadata": {
        "id": "HYuzoIsykt6N"
      },
      "execution_count": null,
      "outputs": []
    }
  ]
}